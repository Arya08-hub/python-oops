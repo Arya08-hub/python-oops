{
 "cells": [
  {
   "cell_type": "code",
   "execution_count": null,
   "id": "a2701fa3-c612-4f79-96f5-c0f0089e0f8e",
   "metadata": {},
   "outputs": [],
   "source": [
    "class Course:\n",
    "    def _init_(self, course_code, course_name, credit_hours):\n",
    "        self.course_code = course_code\n",
    "        self.course_name = course_name\n",
    "        self.credit_hours = credit_hours\n",
    "\n",
    "    def display_info(self):\n",
    "        return f\"{self.course_code}: {self.course_name} ({self.credit_hours} credit hours)\"\n",
    "\n",
    "class CoreCourse(Course):\n",
    "    def _init_(self, course_code, course_name, credit_hours, required_for_major):\n",
    "        super()._init_(course_code, course_name, credit_hours)\n",
    "        self.required_for_major = required_for_major\n",
    "\n",
    "    def display_info(self):\n",
    "        return f\"{super().display_info()} - Required: {'Yes' if self.required_for_major else 'No'}\"\n",
    "\n",
    "class ElectiveCourse(Course):\n",
    "    def _init_(self, course_code, course_name, credit_hours, elective_type):\n",
    "        super()._init_(course_code, course_name, credit_hours)\n",
    "        self.elective_type = elective_type\n",
    "\n",
    "    def display_info(self):\n",
    "        return f\"{super().display_info()} - Elective Type: {self.elective_type}\"\n",
    "\n",
    "\n",
    "if _name_ == \"_main_\":\n",
    "    core_course = CoreCourse(\"CS101\", \"Introduction to Computer Science\", 3, True)\n",
    "    elective_course = ElectiveCourse(\"HIST201\", \"World History\", 3, \"liberal arts\")\n",
    "\n",
    "    print(core_course.display_info())\n",
    "    print(elective_course.display_info())"
   ]
  },
  {
   "cell_type": "code",
   "execution_count": null,
   "id": "c1e71842-c3be-4f99-af19-bd751d7f5c14",
   "metadata": {},
   "outputs": [],
   "source": [
    "#employee.py\n",
    "class Employee:\n",
    "    def _init_(self, name, salary):\n",
    "        self.name = name\n",
    "        self.salary = salary\n",
    "\n",
    "    def get_name(self):\n",
    "        return self.name\n",
    "\n",
    "    def get_salary(self):\n",
    "        return self.salary"
   ]
  },
  {
   "cell_type": "code",
   "execution_count": null,
   "id": "6bc811ea-8d38-463b-9604-23fddfd8a686",
   "metadata": {},
   "outputs": [],
   "source": [
    "# main.py\n",
    "\n",
    "from employee import Employee\n",
    "\n",
    "# Creating an Employee object\n",
    "emp1 = Employee(\"Alice Johnson\", 50000)\n",
    "\n",
    "# Displaying Employee details\n",
    "print(\"Employee Name:\", emp1.get_name())\n",
    "print(\"Employee Salary:\", emp1.get_salary())"
   ]
  }
 ],
 "metadata": {
  "kernelspec": {
   "display_name": "anaconda-2024.02-py310",
   "language": "python",
   "name": "conda-env-anaconda-2024.02-py310-py"
  },
  "language_info": {
   "codemirror_mode": {
    "name": "ipython",
    "version": 3
   },
   "file_extension": ".py",
   "mimetype": "text/x-python",
   "name": "python",
   "nbconvert_exporter": "python",
   "pygments_lexer": "ipython3",
   "version": "3.10.14"
  }
 },
 "nbformat": 4,
 "nbformat_minor": 5
}
